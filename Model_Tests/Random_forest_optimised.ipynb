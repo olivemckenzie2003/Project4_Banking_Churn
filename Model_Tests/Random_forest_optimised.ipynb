{
 "cells": [
  {
   "cell_type": "code",
   "execution_count": 1,
   "id": "82d5cbbe",
   "metadata": {},
   "outputs": [],
   "source": [
    "import pandas as pd\n",
    "from pathlib import Path\n",
    "from sklearn.ensemble import RandomForestClassifier\n",
    "from sklearn.preprocessing import StandardScaler\n",
    "from sklearn.model_selection import train_test_split\n",
    "from sklearn.metrics import confusion_matrix, accuracy_score, classification_report\n",
    "from sklearn.model_selection import GridSearchCV\n",
    "from sklearn.ensemble import RandomForestRegressor\n",
    "from pprint import pprint\n",
    "import numpy as np\n",
    "\n",
    "%matplotlib inline\n",
    "\n",
    "import pydotplus\n",
    "from IPython.display import Image"
   ]
  },
  {
   "cell_type": "code",
   "execution_count": 2,
   "id": "c106adb6",
   "metadata": {},
   "outputs": [
    {
     "data": {
      "text/html": [
       "<div>\n",
       "<style scoped>\n",
       "    .dataframe tbody tr th:only-of-type {\n",
       "        vertical-align: middle;\n",
       "    }\n",
       "\n",
       "    .dataframe tbody tr th {\n",
       "        vertical-align: top;\n",
       "    }\n",
       "\n",
       "    .dataframe thead th {\n",
       "        text-align: right;\n",
       "    }\n",
       "</style>\n",
       "<table border=\"1\" class=\"dataframe\">\n",
       "  <thead>\n",
       "    <tr style=\"text-align: right;\">\n",
       "      <th></th>\n",
       "      <th>CustomerId</th>\n",
       "      <th>CreditScore</th>\n",
       "      <th>Age</th>\n",
       "      <th>Tenure</th>\n",
       "      <th>Balance</th>\n",
       "      <th>NumOfProducts</th>\n",
       "      <th>HasCrCard</th>\n",
       "      <th>IsActiveMember</th>\n",
       "      <th>EstimatedSalary</th>\n",
       "      <th>Exited</th>\n",
       "      <th>Geography_France</th>\n",
       "      <th>Geography_Germany</th>\n",
       "      <th>Geography_Spain</th>\n",
       "      <th>Gender_Female</th>\n",
       "      <th>Gender_Male</th>\n",
       "    </tr>\n",
       "  </thead>\n",
       "  <tbody>\n",
       "    <tr>\n",
       "      <th>0</th>\n",
       "      <td>15634602</td>\n",
       "      <td>-0.326221</td>\n",
       "      <td>0.293517</td>\n",
       "      <td>-1.041760</td>\n",
       "      <td>-1.225848</td>\n",
       "      <td>-0.911583</td>\n",
       "      <td>1</td>\n",
       "      <td>1</td>\n",
       "      <td>0.021886</td>\n",
       "      <td>1</td>\n",
       "      <td>1</td>\n",
       "      <td>0</td>\n",
       "      <td>0</td>\n",
       "      <td>1</td>\n",
       "      <td>0</td>\n",
       "    </tr>\n",
       "    <tr>\n",
       "      <th>1</th>\n",
       "      <td>15647311</td>\n",
       "      <td>-0.440036</td>\n",
       "      <td>0.198164</td>\n",
       "      <td>-1.387538</td>\n",
       "      <td>0.117350</td>\n",
       "      <td>-0.911583</td>\n",
       "      <td>0</td>\n",
       "      <td>1</td>\n",
       "      <td>0.216534</td>\n",
       "      <td>0</td>\n",
       "      <td>0</td>\n",
       "      <td>0</td>\n",
       "      <td>1</td>\n",
       "      <td>1</td>\n",
       "      <td>0</td>\n",
       "    </tr>\n",
       "    <tr>\n",
       "      <th>2</th>\n",
       "      <td>15619304</td>\n",
       "      <td>-1.536794</td>\n",
       "      <td>0.293517</td>\n",
       "      <td>1.032908</td>\n",
       "      <td>1.333053</td>\n",
       "      <td>2.527057</td>\n",
       "      <td>1</td>\n",
       "      <td>0</td>\n",
       "      <td>0.240687</td>\n",
       "      <td>1</td>\n",
       "      <td>1</td>\n",
       "      <td>0</td>\n",
       "      <td>0</td>\n",
       "      <td>1</td>\n",
       "      <td>0</td>\n",
       "    </tr>\n",
       "    <tr>\n",
       "      <th>3</th>\n",
       "      <td>15701354</td>\n",
       "      <td>0.501521</td>\n",
       "      <td>0.007457</td>\n",
       "      <td>-1.387538</td>\n",
       "      <td>-1.225848</td>\n",
       "      <td>0.807737</td>\n",
       "      <td>0</td>\n",
       "      <td>0</td>\n",
       "      <td>-0.108918</td>\n",
       "      <td>0</td>\n",
       "      <td>1</td>\n",
       "      <td>0</td>\n",
       "      <td>0</td>\n",
       "      <td>1</td>\n",
       "      <td>0</td>\n",
       "    </tr>\n",
       "    <tr>\n",
       "      <th>4</th>\n",
       "      <td>15737888</td>\n",
       "      <td>2.063884</td>\n",
       "      <td>0.388871</td>\n",
       "      <td>-1.041760</td>\n",
       "      <td>0.785728</td>\n",
       "      <td>-0.911583</td>\n",
       "      <td>1</td>\n",
       "      <td>1</td>\n",
       "      <td>-0.365276</td>\n",
       "      <td>0</td>\n",
       "      <td>0</td>\n",
       "      <td>0</td>\n",
       "      <td>1</td>\n",
       "      <td>1</td>\n",
       "      <td>0</td>\n",
       "    </tr>\n",
       "  </tbody>\n",
       "</table>\n",
       "</div>"
      ],
      "text/plain": [
       "   CustomerId  CreditScore       Age    Tenure   Balance  NumOfProducts  \\\n",
       "0    15634602    -0.326221  0.293517 -1.041760 -1.225848      -0.911583   \n",
       "1    15647311    -0.440036  0.198164 -1.387538  0.117350      -0.911583   \n",
       "2    15619304    -1.536794  0.293517  1.032908  1.333053       2.527057   \n",
       "3    15701354     0.501521  0.007457 -1.387538 -1.225848       0.807737   \n",
       "4    15737888     2.063884  0.388871 -1.041760  0.785728      -0.911583   \n",
       "\n",
       "   HasCrCard  IsActiveMember  EstimatedSalary  Exited  Geography_France  \\\n",
       "0          1               1         0.021886       1                 1   \n",
       "1          0               1         0.216534       0                 0   \n",
       "2          1               0         0.240687       1                 1   \n",
       "3          0               0        -0.108918       0                 1   \n",
       "4          1               1        -0.365276       0                 0   \n",
       "\n",
       "   Geography_Germany  Geography_Spain  Gender_Female  Gender_Male  \n",
       "0                  0                0              1            0  \n",
       "1                  0                1              1            0  \n",
       "2                  0                0              1            0  \n",
       "3                  0                0              1            0  \n",
       "4                  0                1              1            0  "
      ]
     },
     "execution_count": 2,
     "metadata": {},
     "output_type": "execute_result"
    }
   ],
   "source": [
    "# Loading data\n",
    "\n",
    "df_churn = pd.read_csv(\"processed_data.csv\")\n",
    "df_churn.head()"
   ]
  },
  {
   "cell_type": "code",
   "execution_count": 3,
   "id": "3fba694d",
   "metadata": {},
   "outputs": [],
   "source": [
    "X = df_churn.drop('Exited', axis=1) \n",
    "y = df_churn['Exited']"
   ]
  },
  {
   "cell_type": "code",
   "execution_count": 4,
   "id": "a0d3174b",
   "metadata": {},
   "outputs": [],
   "source": [
    "X_train, X_test, y_train, y_test = train_test_split(X, y, test_size=0.3, random_state=12)"
   ]
  },
  {
   "cell_type": "code",
   "execution_count": 5,
   "id": "a86cd352",
   "metadata": {},
   "outputs": [],
   "source": [
    "#Create a random forest classifier\n",
    "rf_model = RandomForestClassifier(n_estimators=100, random_state=12)"
   ]
  },
  {
   "cell_type": "code",
   "execution_count": 6,
   "id": "51ddcf7b",
   "metadata": {},
   "outputs": [],
   "source": [
    " # Fitting the model\n",
    "rf_model = rf_model.fit(X_train, y_train)"
   ]
  },
  {
   "cell_type": "code",
   "execution_count": 7,
   "id": "558d3461",
   "metadata": {},
   "outputs": [],
   "source": [
    "predictions = rf_model.predict(X_test)"
   ]
  },
  {
   "cell_type": "code",
   "execution_count": 8,
   "id": "bfd8f75b",
   "metadata": {},
   "outputs": [],
   "source": [
    "# Calculating the confusion matrix\n",
    "cm = confusion_matrix(y_test, predictions)\n",
    "cm_df = pd.DataFrame(\n",
    "    cm, index=[\"Actual 0\", \"Actual 1\"], columns=[\"Predicted 0\", \"Predicted 1\"]\n",
    ")\n",
    "\n",
    "# Calculating the accuracy score\n",
    "acc_score = accuracy_score(y_test, predictions)"
   ]
  },
  {
   "cell_type": "code",
   "execution_count": 9,
   "id": "ea795e00",
   "metadata": {},
   "outputs": [
    {
     "name": "stdout",
     "output_type": "stream",
     "text": [
      "Confusion Matrix\n"
     ]
    },
    {
     "data": {
      "text/html": [
       "<div>\n",
       "<style scoped>\n",
       "    .dataframe tbody tr th:only-of-type {\n",
       "        vertical-align: middle;\n",
       "    }\n",
       "\n",
       "    .dataframe tbody tr th {\n",
       "        vertical-align: top;\n",
       "    }\n",
       "\n",
       "    .dataframe thead th {\n",
       "        text-align: right;\n",
       "    }\n",
       "</style>\n",
       "<table border=\"1\" class=\"dataframe\">\n",
       "  <thead>\n",
       "    <tr style=\"text-align: right;\">\n",
       "      <th></th>\n",
       "      <th>Predicted 0</th>\n",
       "      <th>Predicted 1</th>\n",
       "    </tr>\n",
       "  </thead>\n",
       "  <tbody>\n",
       "    <tr>\n",
       "      <th>Actual 0</th>\n",
       "      <td>2284</td>\n",
       "      <td>70</td>\n",
       "    </tr>\n",
       "    <tr>\n",
       "      <th>Actual 1</th>\n",
       "      <td>351</td>\n",
       "      <td>295</td>\n",
       "    </tr>\n",
       "  </tbody>\n",
       "</table>\n",
       "</div>"
      ],
      "text/plain": [
       "          Predicted 0  Predicted 1\n",
       "Actual 0         2284           70\n",
       "Actual 1          351          295"
      ]
     },
     "metadata": {},
     "output_type": "display_data"
    },
    {
     "name": "stdout",
     "output_type": "stream",
     "text": [
      "Accuracy Score : 0.8596666666666667\n",
      "Classification Report\n",
      "              precision    recall  f1-score   support\n",
      "\n",
      "           0       0.87      0.97      0.92      2354\n",
      "           1       0.81      0.46      0.58       646\n",
      "\n",
      "    accuracy                           0.86      3000\n",
      "   macro avg       0.84      0.71      0.75      3000\n",
      "weighted avg       0.85      0.86      0.84      3000\n",
      "\n"
     ]
    }
   ],
   "source": [
    "# Displaying results\n",
    "print(\"Confusion Matrix\")\n",
    "display(cm_df)\n",
    "print(f\"Accuracy Score : {acc_score}\")\n",
    "print(\"Classification Report\")\n",
    "print(classification_report(y_test, predictions))"
   ]
  },
  {
   "cell_type": "code",
   "execution_count": 10,
   "id": "f784a9c6",
   "metadata": {},
   "outputs": [
    {
     "data": {
      "image/png": "[encoded data removed]",
      "text/plain": [
       "<Figure size 640x480 with 2 Axes>"
      ]
     },
     "metadata": {},
     "output_type": "display_data"
    }
   ],
   "source": [
    "import seaborn as sns\n",
    "import matplotlib.pyplot as plt\n",
    "\n",
    "# Create heatmap using Seaborn\n",
    "sns.heatmap(cm_df, annot=True, cmap=\"PiYG\", fmt='g')\n",
    "plt.title(\"Confusion Matrix\")\n",
    "plt.xlabel(\"Predicted\")\n",
    "plt.ylabel(\"Actual\")\n",
    "plt.show()"
   ]
  },
  {
   "cell_type": "code",
   "execution_count": 11,
   "id": "aa65482e",
   "metadata": {},
   "outputs": [
    {
     "data": {
      "text/plain": [
       "[(0.22262424585120283, 'Age'),\n",
       " (0.12143909715448001, 'NumOfProducts'),\n",
       " (0.11850581713688393, 'CreditScore'),\n",
       " (0.11850070959880671, 'CustomerId'),\n",
       " (0.11814437623412102, 'EstimatedSalary'),\n",
       " (0.11788824326768353, 'Balance'),\n",
       " (0.071457553465811, 'Tenure'),\n",
       " (0.03354026417723655, 'IsActiveMember'),\n",
       " (0.0209192527668266, 'Geography_Germany'),\n",
       " (0.017404227033938326, 'HasCrCard')]"
      ]
     },
     "execution_count": 11,
     "metadata": {},
     "output_type": "execute_result"
    }
   ],
   "source": [
    "# Get the feature importance array\n",
    "importances = rf_model.feature_importances_\n",
    "# List the top 10 most important features\n",
    "importances_sorted = sorted(zip(rf_model.feature_importances_, X.columns), reverse=True)\n",
    "importances_sorted[:10]"
   ]
  },
  {
   "cell_type": "code",
   "execution_count": 12,
   "id": "fd79f764",
   "metadata": {},
   "outputs": [
    {
     "data": {
      "text/plain": [
       "<Axes: title={'center': 'Feature Importances'}, ylabel='1'>"
      ]
     },
     "execution_count": 12,
     "metadata": {},
     "output_type": "execute_result"
    },
    {
     "data": {
      "image/png": "[encoded data removed]",
      "text/plain": [
       "<Figure size 640x480 with 1 Axes>"
      ]
     },
     "metadata": {},
     "output_type": "display_data"
    }
   ],
   "source": [
    "# Visualize the features by importance\n",
    "importances_df = pd.DataFrame(sorted(zip(rf_model.feature_importances_, X.columns), reverse=True))\n",
    "importances_df.set_index(importances_df[1], inplace=True)\n",
    "importances_df.drop(columns=1, inplace=True)\n",
    "importances_df.rename(columns={0: 'Feature Importances'}, inplace=True)\n",
    "importances_sorted = importances_df.sort_values(by='Feature Importances')\n",
    "importances_sorted.plot(kind='barh', color='green', title= 'Feature Importances', legend=False)"
   ]
  },
  {
   "cell_type": "code",
   "execution_count": 13,
   "id": "4810cced",
   "metadata": {},
   "outputs": [
    {
     "name": "stdout",
     "output_type": "stream",
     "text": [
      "Parameters currently in use:\n",
      "\n",
      "{'bootstrap': True,\n",
      " 'ccp_alpha': 0.0,\n",
      " 'class_weight': None,\n",
      " 'criterion': 'gini',\n",
      " 'max_depth': None,\n",
      " 'max_features': 'auto',\n",
      " 'max_leaf_nodes': None,\n",
      " 'max_samples': None,\n",
      " 'min_impurity_decrease': 0.0,\n",
      " 'min_samples_leaf': 1,\n",
      " 'min_samples_split': 2,\n",
      " 'min_weight_fraction_leaf': 0.0,\n",
      " 'n_estimators': 100,\n",
      " 'n_jobs': None,\n",
      " 'oob_score': False,\n",
      " 'random_state': 12,\n",
      " 'verbose': 0,\n",
      " 'warm_start': False}\n"
     ]
    }
   ],
   "source": [
    "print('Parameters currently in use:\\n')\n",
    "pprint(rf_model.get_params())\n"
   ]
  },
  {
   "cell_type": "code",
   "execution_count": 29,
   "id": "ef7c6510",
   "metadata": {
    "scrolled": true
   },
   "outputs": [
    {
     "name": "stdout",
     "output_type": "stream",
     "text": [
      "Best: [0.80942857 0.80828571 0.80857143 0.85857143 0.86085714 0.859\n",
      " 0.85542857 0.857      0.859     ], using {'max_depth': 8, 'n_estimators': 128}\n"
     ]
    },
    {
     "data": {
      "text/html": [
       "<div>\n",
       "<style scoped>\n",
       "    .dataframe tbody tr th:only-of-type {\n",
       "        vertical-align: middle;\n",
       "    }\n",
       "\n",
       "    .dataframe tbody tr th {\n",
       "        vertical-align: top;\n",
       "    }\n",
       "\n",
       "    .dataframe thead th {\n",
       "        text-align: right;\n",
       "    }\n",
       "</style>\n",
       "<table border=\"1\" class=\"dataframe\">\n",
       "  <thead>\n",
       "    <tr style=\"text-align: right;\">\n",
       "      <th></th>\n",
       "      <th>mean_fit_time</th>\n",
       "      <th>std_fit_time</th>\n",
       "      <th>mean_score_time</th>\n",
       "      <th>std_score_time</th>\n",
       "      <th>param_max_depth</th>\n",
       "      <th>param_n_estimators</th>\n",
       "      <th>params</th>\n",
       "      <th>split0_test_score</th>\n",
       "      <th>split1_test_score</th>\n",
       "      <th>split2_test_score</th>\n",
       "      <th>split3_test_score</th>\n",
       "      <th>split4_test_score</th>\n",
       "      <th>mean_test_score</th>\n",
       "      <th>std_test_score</th>\n",
       "      <th>rank_test_score</th>\n",
       "    </tr>\n",
       "  </thead>\n",
       "  <tbody>\n",
       "    <tr>\n",
       "      <th>0</th>\n",
       "      <td>0.185183</td>\n",
       "      <td>0.011343</td>\n",
       "      <td>0.014740</td>\n",
       "      <td>0.000288</td>\n",
       "      <td>2</td>\n",
       "      <td>64</td>\n",
       "      <td>{'max_depth': 2, 'n_estimators': 64}</td>\n",
       "      <td>0.804286</td>\n",
       "      <td>0.810000</td>\n",
       "      <td>0.806429</td>\n",
       "      <td>0.815000</td>\n",
       "      <td>0.811429</td>\n",
       "      <td>0.809429</td>\n",
       "      <td>0.003763</td>\n",
       "      <td>7</td>\n",
       "    </tr>\n",
       "    <tr>\n",
       "      <th>1</th>\n",
       "      <td>0.386437</td>\n",
       "      <td>0.023363</td>\n",
       "      <td>0.027480</td>\n",
       "      <td>0.001024</td>\n",
       "      <td>2</td>\n",
       "      <td>128</td>\n",
       "      <td>{'max_depth': 2, 'n_estimators': 128}</td>\n",
       "      <td>0.807857</td>\n",
       "      <td>0.810714</td>\n",
       "      <td>0.804286</td>\n",
       "      <td>0.808571</td>\n",
       "      <td>0.810000</td>\n",
       "      <td>0.808286</td>\n",
       "      <td>0.002241</td>\n",
       "      <td>9</td>\n",
       "    </tr>\n",
       "    <tr>\n",
       "      <th>2</th>\n",
       "      <td>0.761792</td>\n",
       "      <td>0.022809</td>\n",
       "      <td>0.060134</td>\n",
       "      <td>0.010268</td>\n",
       "      <td>2</td>\n",
       "      <td>256</td>\n",
       "      <td>{'max_depth': 2, 'n_estimators': 256}</td>\n",
       "      <td>0.810000</td>\n",
       "      <td>0.810000</td>\n",
       "      <td>0.809286</td>\n",
       "      <td>0.805000</td>\n",
       "      <td>0.808571</td>\n",
       "      <td>0.808571</td>\n",
       "      <td>0.001863</td>\n",
       "      <td>8</td>\n",
       "    </tr>\n",
       "    <tr>\n",
       "      <th>3</th>\n",
       "      <td>0.348010</td>\n",
       "      <td>0.003600</td>\n",
       "      <td>0.019979</td>\n",
       "      <td>0.000150</td>\n",
       "      <td>8</td>\n",
       "      <td>64</td>\n",
       "      <td>{'max_depth': 8, 'n_estimators': 64}</td>\n",
       "      <td>0.870714</td>\n",
       "      <td>0.850714</td>\n",
       "      <td>0.851429</td>\n",
       "      <td>0.867143</td>\n",
       "      <td>0.852857</td>\n",
       "      <td>0.858571</td>\n",
       "      <td>0.008560</td>\n",
       "      <td>4</td>\n",
       "    </tr>\n",
       "    <tr>\n",
       "      <th>4</th>\n",
       "      <td>0.713461</td>\n",
       "      <td>0.009156</td>\n",
       "      <td>0.039311</td>\n",
       "      <td>0.001834</td>\n",
       "      <td>8</td>\n",
       "      <td>128</td>\n",
       "      <td>{'max_depth': 8, 'n_estimators': 128}</td>\n",
       "      <td>0.870714</td>\n",
       "      <td>0.849286</td>\n",
       "      <td>0.854286</td>\n",
       "      <td>0.871429</td>\n",
       "      <td>0.858571</td>\n",
       "      <td>0.860857</td>\n",
       "      <td>0.008846</td>\n",
       "      <td>1</td>\n",
       "    </tr>\n",
       "    <tr>\n",
       "      <th>5</th>\n",
       "      <td>1.397229</td>\n",
       "      <td>0.016536</td>\n",
       "      <td>0.073621</td>\n",
       "      <td>0.000568</td>\n",
       "      <td>8</td>\n",
       "      <td>256</td>\n",
       "      <td>{'max_depth': 8, 'n_estimators': 256}</td>\n",
       "      <td>0.872143</td>\n",
       "      <td>0.848571</td>\n",
       "      <td>0.852857</td>\n",
       "      <td>0.867857</td>\n",
       "      <td>0.853571</td>\n",
       "      <td>0.859000</td>\n",
       "      <td>0.009243</td>\n",
       "      <td>2</td>\n",
       "    </tr>\n",
       "    <tr>\n",
       "      <th>6</th>\n",
       "      <td>0.488655</td>\n",
       "      <td>0.001773</td>\n",
       "      <td>0.025571</td>\n",
       "      <td>0.000214</td>\n",
       "      <td>None</td>\n",
       "      <td>64</td>\n",
       "      <td>{'max_depth': None, 'n_estimators': 64}</td>\n",
       "      <td>0.865714</td>\n",
       "      <td>0.838571</td>\n",
       "      <td>0.847857</td>\n",
       "      <td>0.874286</td>\n",
       "      <td>0.850714</td>\n",
       "      <td>0.855429</td>\n",
       "      <td>0.012846</td>\n",
       "      <td>6</td>\n",
       "    </tr>\n",
       "    <tr>\n",
       "      <th>7</th>\n",
       "      <td>0.972562</td>\n",
       "      <td>0.015516</td>\n",
       "      <td>0.048423</td>\n",
       "      <td>0.000403</td>\n",
       "      <td>None</td>\n",
       "      <td>128</td>\n",
       "      <td>{'max_depth': None, 'n_estimators': 128}</td>\n",
       "      <td>0.863571</td>\n",
       "      <td>0.842143</td>\n",
       "      <td>0.857143</td>\n",
       "      <td>0.872143</td>\n",
       "      <td>0.850000</td>\n",
       "      <td>0.857000</td>\n",
       "      <td>0.010414</td>\n",
       "      <td>5</td>\n",
       "    </tr>\n",
       "    <tr>\n",
       "      <th>8</th>\n",
       "      <td>1.942817</td>\n",
       "      <td>0.004974</td>\n",
       "      <td>0.095309</td>\n",
       "      <td>0.001361</td>\n",
       "      <td>None</td>\n",
       "      <td>256</td>\n",
       "      <td>{'max_depth': None, 'n_estimators': 256}</td>\n",
       "      <td>0.865714</td>\n",
       "      <td>0.845000</td>\n",
       "      <td>0.855000</td>\n",
       "      <td>0.877143</td>\n",
       "      <td>0.852143</td>\n",
       "      <td>0.859000</td>\n",
       "      <td>0.011254</td>\n",
       "      <td>2</td>\n",
       "    </tr>\n",
       "  </tbody>\n",
       "</table>\n",
       "</div>"
      ],
      "text/plain": [
       "   mean_fit_time  std_fit_time  mean_score_time  std_score_time  \\\n",
       "0       0.185183      0.011343         0.014740        0.000288   \n",
       "1       0.386437      0.023363         0.027480        0.001024   \n",
       "2       0.761792      0.022809         0.060134        0.010268   \n",
       "3       0.348010      0.003600         0.019979        0.000150   \n",
       "4       0.713461      0.009156         0.039311        0.001834   \n",
       "5       1.397229      0.016536         0.073621        0.000568   \n",
       "6       0.488655      0.001773         0.025571        0.000214   \n",
       "7       0.972562      0.015516         0.048423        0.000403   \n",
       "8       1.942817      0.004974         0.095309        0.001361   \n",
       "\n",
       "  param_max_depth param_n_estimators  \\\n",
       "0               2                 64   \n",
       "1               2                128   \n",
       "2               2                256   \n",
       "3               8                 64   \n",
       "4               8                128   \n",
       "5               8                256   \n",
       "6            None                 64   \n",
       "7            None                128   \n",
       "8            None                256   \n",
       "\n",
       "                                     params  split0_test_score  \\\n",
       "0      {'max_depth': 2, 'n_estimators': 64}           0.804286   \n",
       "1     {'max_depth': 2, 'n_estimators': 128}           0.807857   \n",
       "2     {'max_depth': 2, 'n_estimators': 256}           0.810000   \n",
       "3      {'max_depth': 8, 'n_estimators': 64}           0.870714   \n",
       "4     {'max_depth': 8, 'n_estimators': 128}           0.870714   \n",
       "5     {'max_depth': 8, 'n_estimators': 256}           0.872143   \n",
       "6   {'max_depth': None, 'n_estimators': 64}           0.865714   \n",
       "7  {'max_depth': None, 'n_estimators': 128}           0.863571   \n",
       "8  {'max_depth': None, 'n_estimators': 256}           0.865714   \n",
       "\n",
       "   split1_test_score  split2_test_score  split3_test_score  split4_test_score  \\\n",
       "0           0.810000           0.806429           0.815000           0.811429   \n",
       "1           0.810714           0.804286           0.808571           0.810000   \n",
       "2           0.810000           0.809286           0.805000           0.808571   \n",
       "3           0.850714           0.851429           0.867143           0.852857   \n",
       "4           0.849286           0.854286           0.871429           0.858571   \n",
       "5           0.848571           0.852857           0.867857           0.853571   \n",
       "6           0.838571           0.847857           0.874286           0.850714   \n",
       "7           0.842143           0.857143           0.872143           0.850000   \n",
       "8           0.845000           0.855000           0.877143           0.852143   \n",
       "\n",
       "   mean_test_score  std_test_score  rank_test_score  \n",
       "0         0.809429        0.003763                7  \n",
       "1         0.808286        0.002241                9  \n",
       "2         0.808571        0.001863                8  \n",
       "3         0.858571        0.008560                4  \n",
       "4         0.860857        0.008846                1  \n",
       "5         0.859000        0.009243                2  \n",
       "6         0.855429        0.012846                6  \n",
       "7         0.857000        0.010414                5  \n",
       "8         0.859000        0.011254                2  "
      ]
     },
     "execution_count": 29,
     "metadata": {},
     "output_type": "execute_result"
    }
   ],
   "source": [
    "# Define Parameters\n",
    "max_depth=[2, 8, None]\n",
    "n_estimators = [64, 128, 256]\n",
    "param_grid = dict(max_depth=max_depth, n_estimators=n_estimators)\n",
    "\n",
    "# Build the grid search\n",
    "dfrst = RandomForestClassifier(n_estimators=n_estimators, max_depth=max_depth)\n",
    "grid = GridSearchCV(estimator=dfrst, param_grid=param_grid, cv = 5)\n",
    "grid_results = grid.fit(X_train, y_train)\n",
    "\n",
    "# Summarize the results in a readable format\n",
    "print(\"Best: {0}, using {1}\".format(grid_results.cv_results_['mean_test_score'], grid_results.best_params_))\n",
    "results_df = pd.DataFrame(grid_results.cv_results_)\n",
    "results_df"
   ]
  },
  {
   "cell_type": "code",
   "execution_count": 30,
   "id": "ef708f2d",
   "metadata": {},
   "outputs": [
    {
     "data": {
      "text/plain": [
       "([<matplotlib.axis.YTick at 0x7f8bd9e26550>,\n",
       "  <matplotlib.axis.YTick at 0x7f8bd9e261f0>],\n",
       " [Text(0, 0.5, 'False'), Text(0, 1.5, 'True')])"
      ]
     },
     "execution_count": 30,
     "metadata": {},
     "output_type": "execute_result"
    },
    {
     "data": {
      "image/png": "[encoded data removed]",
      "text/plain": [
       "<Figure size 700x600 with 2 Axes>"
      ]
     },
     "metadata": {},
     "output_type": "display_data"
    }
   ],
   "source": [
    "# Extract the best decision forest \n",
    "best_clf = grid_results.best_estimator_\n",
    "y_pred = best_clf.predict(X_test)\n",
    "\n",
    "# Create a confusion matrix\n",
    "cnf_matrix = confusion_matrix(y_test, y_pred)\n",
    "\n",
    "# Create heatmap from the confusion matrix\n",
    "%matplotlib inline\n",
    "class_names=[False, True] # name  of classes\n",
    "fig, ax = plt.subplots(figsize=(7, 6))\n",
    "sns.heatmap(pd.DataFrame(cnf_matrix), annot=True, cmap=\"YlGnBu\", fmt='g')\n",
    "ax.xaxis.set_label_position(\"top\")\n",
    "plt.tight_layout()\n",
    "plt.title('Confusion matrix')\n",
    "plt.ylabel('Actual label')\n",
    "plt.xlabel('Predicted label')\n",
    "tick_marks = [0.5, 1.5]\n",
    "plt.xticks(tick_marks, class_names)\n",
    "plt.yticks(tick_marks, class_names)"
   ]
  },
  {
   "cell_type": "code",
   "execution_count": 33,
   "id": "cdd65840",
   "metadata": {},
   "outputs": [
    {
     "name": "stdout",
     "output_type": "stream",
     "text": [
      "Accuracy 0.8553333333333333\n"
     ]
    }
   ],
   "source": [
    "accuracy_1 = accuracy_score(y_test, y_pred)\n",
    "print(\"Accuracy\", accuracy_1)"
   ]
  },
  {
   "cell_type": "code",
   "execution_count": 39,
   "id": "fe7b8f06",
   "metadata": {},
   "outputs": [],
   "source": [
    "rf_model_bestfit = RandomForestClassifier(n_estimators=256, random_state=12, max_depth=None)"
   ]
  },
  {
   "cell_type": "code",
   "execution_count": 40,
   "id": "d81af215",
   "metadata": {},
   "outputs": [],
   "source": [
    "rf_model_bestfit = rf_model_bestfit.fit(X_train, y_train)"
   ]
  },
  {
   "cell_type": "code",
   "execution_count": 41,
   "id": "b9eee5c6",
   "metadata": {},
   "outputs": [],
   "source": [
    "predictions_2 = rf_model_bestfit.predict(X_test)"
   ]
  },
  {
   "cell_type": "code",
   "execution_count": 42,
   "id": "8ae9c117",
   "metadata": {},
   "outputs": [],
   "source": [
    "# Calculating the confusion matrix\n",
    "cm_2 = confusion_matrix(y_test, predictions)\n",
    "cm_2_df = pd.DataFrame(\n",
    "    cm_2, index=[\"Actual 0\", \"Actual 1\"], columns=[\"Predicted 0\", \"Predicted 1\"]\n",
    ")\n",
    "\n",
    "# Calculating the accuracy score\n",
    "acc_score_2 = accuracy_score(y_test, predictions_2)"
   ]
  },
  {
   "cell_type": "code",
   "execution_count": 43,
   "id": "0751054b",
   "metadata": {
    "scrolled": true
   },
   "outputs": [
    {
     "name": "stdout",
     "output_type": "stream",
     "text": [
      "Confusion Matrix\n"
     ]
    },
    {
     "data": {
      "text/html": [
       "<div>\n",
       "<style scoped>\n",
       "    .dataframe tbody tr th:only-of-type {\n",
       "        vertical-align: middle;\n",
       "    }\n",
       "\n",
       "    .dataframe tbody tr th {\n",
       "        vertical-align: top;\n",
       "    }\n",
       "\n",
       "    .dataframe thead th {\n",
       "        text-align: right;\n",
       "    }\n",
       "</style>\n",
       "<table border=\"1\" class=\"dataframe\">\n",
       "  <thead>\n",
       "    <tr style=\"text-align: right;\">\n",
       "      <th></th>\n",
       "      <th>Predicted 0</th>\n",
       "      <th>Predicted 1</th>\n",
       "    </tr>\n",
       "  </thead>\n",
       "  <tbody>\n",
       "    <tr>\n",
       "      <th>Actual 0</th>\n",
       "      <td>2284</td>\n",
       "      <td>70</td>\n",
       "    </tr>\n",
       "    <tr>\n",
       "      <th>Actual 1</th>\n",
       "      <td>351</td>\n",
       "      <td>295</td>\n",
       "    </tr>\n",
       "  </tbody>\n",
       "</table>\n",
       "</div>"
      ],
      "text/plain": [
       "          Predicted 0  Predicted 1\n",
       "Actual 0         2284           70\n",
       "Actual 1          351          295"
      ]
     },
     "metadata": {},
     "output_type": "display_data"
    },
    {
     "name": "stdout",
     "output_type": "stream",
     "text": [
      "Accuracy Score : 0.8613333333333333\n",
      "Classification Report\n",
      "              precision    recall  f1-score   support\n",
      "\n",
      "           0       0.87      0.97      0.92      2354\n",
      "           1       0.82      0.45      0.58       646\n",
      "\n",
      "    accuracy                           0.86      3000\n",
      "   macro avg       0.85      0.71      0.75      3000\n",
      "weighted avg       0.86      0.86      0.85      3000\n",
      "\n"
     ]
    }
   ],
   "source": [
    "# Displaying results\n",
    "print(\"Confusion Matrix\")\n",
    "display(cm_2_df)\n",
    "print(f\"Accuracy Score : {acc_score_2}\")\n",
    "print(\"Classification Report\")\n",
    "print(classification_report(y_test, predictions_2))"
   ]
  },
  {
   "cell_type": "code",
   "execution_count": null,
   "id": "60ae0cd4",
   "metadata": {},
   "outputs": [],
   "source": []
  }
 ],
 "metadata": {
  "kernelspec": {
   "display_name": "Python 3 (ipykernel)",
   "language": "python",
   "name": "python3"
  },
  "language_info": {
   "codemirror_mode": {
    "name": "ipython",
    "version": 3
   },
   "file_extension": ".py",
   "mimetype": "text/x-python",
   "name": "python",
   "nbconvert_exporter": "python",
   "pygments_lexer": "ipython3",
   "version": "3.9.15"
  }
 },
 "nbformat": 4,
 "nbformat_minor": 5
}
